{
 "cells": [
  {
   "cell_type": "markdown",
   "metadata": {},
   "source": [
    "# Cat and Dog with Google Inception modules<hr/>\n",
    "\n",
    "### So What are Inception modules? How looks Google Inception Module ?\n",
    "\n",
    "<img src=\"./inception.png\" width=700px>\n",
    "\n",
    "it's Google inception module and it used in GoogLeNet model \n",
    "\n",
    "\n",
    "\n",
    "\n",
    "\n",
    "### What is different from a normal inception module?\n",
    "\n",
    "\n",
    "<img src=\"./normal_inception.png\" width=700px>\n",
    "\n",
    "The Normal Inception module does not use 1x1 convolution, So I'm asking 'why is Google Inception module using 1x1 convolution'?\n",
    "\n",
    "Because the large convolutions require a lot of computation. But they wanted to be deeper and wider with less computation.\n",
    "\n",
    "that's why there are 1x1 convolution before doing large convolution (in this case 5x5 and 3x3 !)\n",
    "\n",
    "in fact, 1x1 convolution reduces the calculation\n",
    "\n",
    "How 1x1 convolution reduces the calculation?\n",
    "\n",
    "The key is dimensionality reduction with 1x1 convolution"
   ]
  },
  {
   "cell_type": "code",
   "execution_count": 1,
   "metadata": {
    "_cell_guid": "b1076dfc-b9ad-4769-8c92-a6c4dae69d19",
    "_uuid": "8f2839f25d086af736a60e9eeb907d3b93b6e0e5"
   },
   "outputs": [
    {
     "name": "stderr",
     "output_type": "stream",
     "text": [
      "C:\\Users\\che99\\Anaconda3\\lib\\site-packages\\h5py\\__init__.py:36: FutureWarning: Conversion of the second argument of issubdtype from `float` to `np.floating` is deprecated. In future, it will be treated as `np.float64 == np.dtype(float).type`.\n",
      "  from ._conv import register_converters as _register_converters\n"
     ]
    },
    {
     "name": "stdout",
     "output_type": "stream",
     "text": [
      "['.ipynb_checkpoints', 'inception.png', 'main_Simple_CNN.ipynb', 'main_with_google_inception.ipynb', 'normal_inception.png', 'test_set', 'training_set']\n"
     ]
    }
   ],
   "source": [
    "import numpy as np \n",
    "import pandas as pd\n",
    "import tensorflow as tf\n",
    "import matplotlib.pyplot as plt\n",
    "import cv2\n",
    "import os\n",
    "import random\n",
    "print(os.listdir())"
   ]
  },
  {
   "cell_type": "code",
   "execution_count": 2,
   "metadata": {
    "_cell_guid": "79c7e3d0-c299-4dcb-8224-4455121ee9b0",
    "_uuid": "d629ff2d2480ee46fbb7e2d37f6b5fab8052498a"
   },
   "outputs": [],
   "source": [
    "TRAINING_DIR = './training_set/training_set/'\n",
    "TEST_DIR = './test_set/test_set/'"
   ]
  },
  {
   "cell_type": "markdown",
   "metadata": {},
   "source": [
    "## get data and labeling \n",
    "\n",
    "cat and dog datas from kaggle 'https://www.kaggle.com/tongpython/cat-and-dog'\n",
    "\n",
    "many other people converts the images to grayscale when input images, but i will not converts the images to grayscale\n",
    "\n",
    "So you need to ask \"why we removed the color? don't we need the color to classification?\" \n",
    "\n",
    "It depends on object of classification. I found information about this story. they will help you understand\n",
    "\n",
    "https://www.quora.com/How-does-convolutional-Neural-Network-handle-color-images-in-object-recognition?srid=ddVE\n",
    "\n",
    "https://github.com/GilLevi/AgeGenderDeepLearning/issues/4\n",
    "\n",
    "https://www.reddit.com/r/MachineLearning/comments/5h2l09/d_cnn_object_recognition_grayscale_vs_rgb/\n"
   ]
  },
  {
   "cell_type": "code",
   "execution_count": 3,
   "metadata": {
    "_uuid": "257724d598d3694ddca8d1ecee0435ef9216478a"
   },
   "outputs": [],
   "source": [
    "def get_data(name):\n",
    "    x = []\n",
    "    y = []\n",
    "    for Dir in os.listdir(name):\n",
    "        if not Dir.startswith('.'):\n",
    "            if Dir in ['cats']:\n",
    "                value = 0\n",
    "            elif Dir in ['dogs']:\n",
    "                value = 1\n",
    "                \n",
    "            for file in os.listdir(name+'/'+Dir):\n",
    "                img = cv2.imread(name+'/'+Dir+'/'+file) # read img and removed colors\n",
    "                if img is not None:\n",
    "                    img = cv2.resize(img,(50, 50))\n",
    "                    img = np.array(img)\n",
    "                    x.append(img)\n",
    "                    y.append(value)\n",
    "    return np.array(x), np.array(y)"
   ]
  },
  {
   "cell_type": "code",
   "execution_count": 4,
   "metadata": {
    "_uuid": "81e039a1aec861cee74551ad29db3dae2af2194f",
    "scrolled": true
   },
   "outputs": [],
   "source": [
    "trainx, trainy = get_data(TRAINING_DIR)"
   ]
  },
  {
   "cell_type": "code",
   "execution_count": 5,
   "metadata": {
    "_uuid": "286095cd3fbe7c6ff23c62879e2c5212ea20a23b"
   },
   "outputs": [],
   "source": [
    "testx, testy = get_data(TEST_DIR)"
   ]
  },
  {
   "cell_type": "markdown",
   "metadata": {},
   "source": [
    "## Check datas shape and sample image"
   ]
  },
  {
   "cell_type": "code",
   "execution_count": 6,
   "metadata": {
    "_uuid": "a1dfab2fefbffd19c93c5f484fb00dd0f1ed1afe"
   },
   "outputs": [
    {
     "name": "stdout",
     "output_type": "stream",
     "text": [
      "(8005, 50, 50, 3) (8005,)\n",
      "(2023, 50, 50, 3) (2023,)\n"
     ]
    }
   ],
   "source": [
    "print(trainx.shape, trainy.shape)\n",
    "print(testx.shape, testy.shape)"
   ]
  },
  {
   "cell_type": "code",
   "execution_count": 7,
   "metadata": {},
   "outputs": [
    {
     "data": {
      "image/png": "[encoded data removed]",
      "text/plain": [
       "<Figure size 432x288 with 1 Axes>"
      ]
     },
     "metadata": {},
     "output_type": "display_data"
    }
   ],
   "source": [
    "plt.imshow(trainx[0],cmap='Greys_r')\n",
    "plt.show()"
   ]
  },
  {
   "cell_type": "markdown",
   "metadata": {},
   "source": [
    "## Code BatchGenerator\n",
    "i made it for long time ago, and it's pretty useful ! every time when i do deepleaning"
   ]
  },
  {
   "cell_type": "code",
   "execution_count": 8,
   "metadata": {
    "_uuid": "58d61e53f1863bd2fabc2831e3722c13f2feee9c"
   },
   "outputs": [],
   "source": [
    "class BatchGenerator():\n",
    "    where = 0\n",
    "    \n",
    "    def __init__(self, x, y, batch_size, one_hot = False, nb_classes = 0):\n",
    "        self.nb_classes = nb_classes\n",
    "        self.one_hot = one_hot\n",
    "        self.x_ = x\n",
    "        self.y_ = y\n",
    "        self.batch_size = batch_size\n",
    "        \n",
    "        self.total_batch = int(len(x) / batch_size)\n",
    "        self.x = self.x_[:batch_size,]\n",
    "        self.y = self.y_[:batch_size,]\n",
    "        self.where = batch_size\n",
    "        \n",
    "        if self.one_hot :\n",
    "            self.set_one_hot()\n",
    "\n",
    "    def next_batch(self):\n",
    "        if self.where + self.batch_size > len(self.x_) :\n",
    "            self.where = len(self.x_) - self.where\n",
    "            \n",
    "        self.x = self.x_[self.where:self.where+self.batch_size,]\n",
    "        self.y = self.y_[self.where:self.where+self.batch_size,]\n",
    "        self.where += self.batch_size\n",
    "        \n",
    "        if self.one_hot:\n",
    "            self.set_one_hot()\n",
    "        \n",
    "    def set_one_hot(self):\n",
    "        self.y = np.int32(self.y)\n",
    "        one_hot = np.array(self.y).reshape(-1)\n",
    "        self.y = np.eye(self.nb_classes)[one_hot]\n",
    "        "
   ]
  },
  {
   "cell_type": "markdown",
   "metadata": {},
   "source": [
    "## Some of functions to building Neural Network"
   ]
  },
  {
   "cell_type": "code",
   "execution_count": 9,
   "metadata": {},
   "outputs": [],
   "source": [
    "def create_weight(size, name):\n",
    "    return tf.Variable(tf.random_normal(size, dtype=tf.float32, stddev=0.01), name = name)\n",
    "    \n",
    "def create_bias(size,name):\n",
    "    return tf.Variable(tf.random_normal(size, dtype=tf.float32, stddev=0.01), name = name)\n",
    "\n",
    "def conv2d(x,W):\n",
    "    return tf.nn.conv2d(x,W, strides=[1,1,1,1], padding='SAME')\n",
    "\n",
    "def max_pooling(x, size, strides):\n",
    "    return tf.nn.max_pool(x, ksize=size, strides=strides, padding='SAME')"
   ]
  },
  {
   "cell_type": "markdown",
   "metadata": {},
   "source": [
    "## Set Variables for CNN\n",
    "yeah... it's pretty messy but you will easily understand if you read slowly line to line \n",
    "\n",
    "I've only used two Google Inception modules, and one of the hidden layers is fully connected.\n",
    "\n",
    "also, only the last two of the variable weights use the xavier initializer\n",
    "\n",
    "Understanding Xavier Initialization In Deep Neural Networks \n",
    "\n",
    "'https://prateekvjoshi.com/2016/03/29/understanding-xavier-initialization-in-deep-neural-networks/'"
   ]
  },
  {
   "cell_type": "code",
   "execution_count": 10,
   "metadata": {
    "_uuid": "6fa01f2b8d033b0fc8cf20083d6e9e02973c7131",
    "scrolled": true
   },
   "outputs": [],
   "source": [
    "# placeholders for input datas\n",
    "tf.reset_default_graph()\n",
    "X = tf.placeholder(tf.float32, shape=[None, 50, 50, 3])\n",
    "Y = tf.placeholder(tf.float32, shape=[None, 2])"
   ]
  },
  {
   "cell_type": "code",
   "execution_count": 11,
   "metadata": {},
   "outputs": [],
   "source": [
    "# for first inception module \n",
    "W1_1 = create_weight([1,1,3,32],'w1_1')\n",
    "b1_1 = create_weight([32],'b1_1')\n",
    "W1_2 = create_weight([1,1,3,16],'w1_2')\n",
    "b1_2 = create_weight([16],'b1_2')\n",
    "W1_3 = create_weight([1,1,3,16],'w1_3')\n",
    "b1_3 = create_weight([16],'b1_3')\n",
    "W1_4 = create_weight([1,1,3,32],'w1_4')\n",
    "b1_4 = create_weight([32],'b1_4')\n",
    "\n",
    "W1_3x3 = create_weight([3,3,16,32],'w1_3x3')\n",
    "b1_3x3 = create_weight([32],'b1_3x3')\n",
    "W1_5x5 = create_weight([5,5,16,32],'w1_5x5')\n",
    "b1_5x5 = create_weight([32],'b1_5x5')\n",
    "\n",
    "# for second inception module \n",
    "W2_1 = create_weight([1,1,32*4,64],'w2_1')\n",
    "b2_1 = create_weight([64],'b2_1')\n",
    "W2_2 = create_weight([1,1,32*4,16],'w2_2')\n",
    "b2_2 = create_weight([16],'b2_2')\n",
    "W2_3 = create_weight([1,1,32*4,16],'w2_3')\n",
    "b2_3 = create_weight([16],'b2_3')\n",
    "W2_4 = create_weight([1,1,32*4,64],'w2_4')\n",
    "b2_4 = create_weight([64],'b2_4')\n",
    "\n",
    "W2_3x3 = create_weight([3,3,16,64],'w2_3x3')\n",
    "b2_3x3 = create_weight([64],'b2_3x3')\n",
    "W2_5x5 = create_weight([5,5,16,64],'w2_5x5')\n",
    "b2_5x5 = create_weight([64],'b2_5x5')"
   ]
  },
  {
   "cell_type": "code",
   "execution_count": 12,
   "metadata": {},
   "outputs": [],
   "source": [
    "# for full connected layer\n",
    "W_out1 = tf.get_variable('W_out1', shape=[50 * 50 * 256, 512],initializer = tf.contrib.layers.xavier_initializer())\n",
    "b_out1 = create_bias([512],'b_out1')\n",
    "W_out2 = tf.get_variable('W_out2', shape=[512, 2],initializer = tf.contrib.layers.xavier_initializer())\n",
    "b_out2 = create_bias([2],'b_out2')"
   ]
  },
  {
   "cell_type": "markdown",
   "metadata": {},
   "source": [
    "## preparing to training\n",
    "we will use AdamOptimizer, It's awesome You can find some posts or information on Google"
   ]
  },
  {
   "cell_type": "code",
   "execution_count": 13,
   "metadata": {},
   "outputs": [],
   "source": [
    "def model(x, train = True):\n",
    "    \n",
    "    conv1_1 = conv2d(X, W1_1) + b1_1\n",
    "    conv1_2 = conv2d(tf.nn.relu(conv2d(X, W1_2) + b1_2), W1_3x3) + b1_3x3\n",
    "    conv1_3 = conv2d(tf.nn.relu(conv2d(X, W1_3) + b1_3), W1_5x5) + b1_5x5\n",
    "    conv1_4 = conv2d(max_pooling(X, [1,3,3,1],[1,1,1,1]), W1_4) + b1_4\n",
    "    inception1 = tf.nn.relu(tf.concat([conv1_1, conv1_2, conv1_3, conv1_4], 3))\n",
    "    \n",
    "    conv2_1 = conv2d(inception1, W2_1) + b2_1\n",
    "    conv2_2 = conv2d(tf.nn.relu(conv2d(inception1, W2_2) + b2_2), W2_3x3) + b2_3x3\n",
    "    conv2_3 = conv2d(tf.nn.relu(conv2d(inception1, W2_3) + b2_3), W2_5x5) + b2_5x5\n",
    "    conv2_4 = conv2d(max_pooling(inception1, [1,3,3,1],[1,1,1,1]), W2_4) + b2_4\n",
    "    inception2 = tf.nn.relu(tf.concat([conv2_1, conv2_2, conv2_3, conv2_4], 3))\n",
    "    \n",
    "    FC_1 = tf.reshape(inception2, [-1, 50*50*256])\n",
    "    \n",
    "    \n",
    "    if train:\n",
    "        FC_1 = tf.nn.relu(tf.matmul(FC_1, W_out1) + b_out1)\n",
    "        FC_1 = tf.nn.dropout(FC_1, keep_prob=0.5)\n",
    "    \n",
    "    else:\n",
    "        FC_1 = tf.nn.relu(tf.matmul(FC_1, W_out1) + b_out1)\n",
    "    \n",
    "    FC_2 = tf.matmul(FC_1, W_out2) + b_out2\n",
    "    \n",
    "    return FC_2"
   ]
  },
  {
   "cell_type": "code",
   "execution_count": 14,
   "metadata": {},
   "outputs": [],
   "source": [
    "cost = tf.reduce_mean(tf.nn.softmax_cross_entropy_with_logits_v2(logits=model(X), labels=Y))\n",
    "optimizer = tf.train.AdamOptimizer(learning_rate=1e-5).minimize(cost)\n",
    "sess = tf.Session()\n",
    "sess.run(tf.global_variables_initializer())"
   ]
  },
  {
   "cell_type": "markdown",
   "metadata": {},
   "source": [
    "## Let's Training!\n",
    "you may want to see how your model is going , so it will show 'cost(==lost) value' every epoch\n",
    "\n",
    "total 300 epoches it took 2~3 hours, with gtx 1080 ti 11g  "
   ]
  },
  {
   "cell_type": "code",
   "execution_count": 21,
   "metadata": {
    "scrolled": false
   },
   "outputs": [
    {
     "name": "stdout",
     "output_type": "stream",
     "text": [
      "started!\n",
      "Epoch:0001 cost = 0.002462188\n",
      "Epoch:0002 cost = 0.003317559\n",
      "Epoch:0003 cost = 0.001438024\n",
      "Epoch:0004 cost = 0.001781755\n",
      "Epoch:0005 cost = 0.001757527\n",
      "Epoch:0006 cost = 0.002518931\n",
      "Epoch:0007 cost = 0.002705596\n",
      "Epoch:0008 cost = 0.002880494\n",
      "Epoch:0009 cost = 0.002921518\n",
      "Epoch:0010 cost = 0.002437121\n",
      "Epoch:0011 cost = 0.002351077\n",
      "Epoch:0012 cost = 0.001880874\n",
      "Epoch:0013 cost = 0.002788764\n",
      "Epoch:0014 cost = 0.003718139\n",
      "Epoch:0015 cost = 0.002490619\n",
      "Epoch:0016 cost = 0.002420949\n",
      "Epoch:0017 cost = 0.001715997\n",
      "Epoch:0018 cost = 0.001996153\n",
      "Epoch:0019 cost = 0.002027520\n",
      "Epoch:0020 cost = 0.001106940\n",
      "Epoch:0021 cost = 0.001386371\n",
      "Epoch:0022 cost = 0.001749489\n",
      "Epoch:0023 cost = 0.001659661\n",
      "Epoch:0024 cost = 0.002298129\n",
      "Epoch:0025 cost = 0.001964607\n",
      "Epoch:0026 cost = 0.001092294\n",
      "Epoch:0027 cost = 0.001875240\n",
      "Epoch:0028 cost = 0.001401207\n",
      "Epoch:0029 cost = 0.002463883\n",
      "Epoch:0030 cost = 0.001726837\n",
      "Epoch:0031 cost = 0.001587292\n",
      "Epoch:0032 cost = 0.001239690\n",
      "Epoch:0033 cost = 0.001712939\n",
      "Epoch:0034 cost = 0.001885033\n",
      "Epoch:0035 cost = 0.001956939\n",
      "Epoch:0036 cost = 0.001458800\n",
      "Epoch:0037 cost = 0.001743558\n",
      "Epoch:0038 cost = 0.001227039\n",
      "Epoch:0039 cost = 0.001529130\n",
      "Epoch:0040 cost = 0.001237817\n",
      "Epoch:0041 cost = 0.000886961\n",
      "Epoch:0042 cost = 0.001414814\n",
      "Epoch:0043 cost = 0.001465417\n",
      "Epoch:0044 cost = 0.000804379\n",
      "Epoch:0045 cost = 0.000942433\n",
      "Epoch:0046 cost = 0.001851607\n",
      "Epoch:0047 cost = 0.000842373\n",
      "Epoch:0048 cost = 0.001591007\n",
      "Epoch:0049 cost = 0.001301597\n",
      "Epoch:0050 cost = 0.001961839\n",
      "Epoch:0051 cost = 0.000598990\n",
      "Epoch:0052 cost = 0.001444329\n",
      "Epoch:0053 cost = 0.000831031\n",
      "Epoch:0054 cost = 0.001689832\n",
      "Epoch:0055 cost = 0.001253497\n",
      "Epoch:0056 cost = 0.001522587\n",
      "Epoch:0057 cost = 0.001535301\n",
      "Epoch:0058 cost = 0.001179282\n",
      "Epoch:0059 cost = 0.001781589\n",
      "Epoch:0060 cost = 0.001337658\n",
      "Epoch:0061 cost = 0.001676050\n",
      "Epoch:0062 cost = 0.001137645\n",
      "Epoch:0063 cost = 0.000935625\n",
      "Epoch:0064 cost = 0.000972689\n",
      "Epoch:0065 cost = 0.002366799\n",
      "Epoch:0066 cost = 0.001514422\n",
      "Epoch:0067 cost = 0.001126178\n",
      "Epoch:0068 cost = 0.001312270\n",
      "Epoch:0069 cost = 0.001524853\n",
      "Epoch:0070 cost = 0.001040122\n",
      "Epoch:0071 cost = 0.001500469\n",
      "Epoch:0072 cost = 0.001596118\n",
      "Epoch:0073 cost = 0.000915834\n",
      "Epoch:0074 cost = 0.001778964\n",
      "Epoch:0075 cost = 0.001671226\n",
      "Epoch:0076 cost = 0.001980019\n",
      "Epoch:0077 cost = 0.000960703\n",
      "Epoch:0078 cost = 0.002012291\n",
      "Epoch:0079 cost = 0.002036481\n",
      "Epoch:0080 cost = 0.001370909\n",
      "Epoch:0081 cost = 0.001274360\n",
      "Epoch:0082 cost = 0.002441040\n",
      "Epoch:0083 cost = 0.001832791\n",
      "Epoch:0084 cost = 0.001809597\n",
      "Epoch:0085 cost = 0.001376629\n",
      "Epoch:0086 cost = 0.001334117\n",
      "Epoch:0087 cost = 0.001396512\n",
      "Epoch:0088 cost = 0.001125837\n",
      "Epoch:0089 cost = 0.000879769\n",
      "Epoch:0090 cost = 0.000926673\n",
      "Epoch:0091 cost = 0.001335504\n",
      "Epoch:0092 cost = 0.000386960\n",
      "Epoch:0093 cost = 0.001100545\n",
      "Epoch:0094 cost = 0.001372402\n",
      "Epoch:0095 cost = 0.001209879\n",
      "Epoch:0096 cost = 0.000986148\n",
      "Epoch:0097 cost = 0.001270169\n",
      "Epoch:0098 cost = 0.001770358\n",
      "Epoch:0099 cost = 0.000662925\n",
      "Epoch:0100 cost = 0.002236174\n"
     ]
    }
   ],
   "source": [
    "batch = BatchGenerator(trainx, trainy, batch_size=50, nb_classes=2, one_hot=True)\n",
    "epoches = 100\n",
    "\n",
    "print('started!')\n",
    "for epoch in range(epoches):\n",
    "    avg_cost = 0\n",
    "    for i in range(batch.total_batch):\n",
    "        feed_dict = {X: batch.x, Y: batch.y}\n",
    "        c, _, = sess.run([cost, optimizer], feed_dict=feed_dict)\n",
    "        avg_cost += c / batch.total_batch\n",
    "        batch.next_batch()\n",
    "    print('Epoch:' '%04d' % (epoch + 1), 'cost =', '{:.9f}'.format(avg_cost))        "
   ]
  },
  {
   "cell_type": "markdown",
   "metadata": {},
   "source": [
    "## Check Accuracy and Test the model with test datas"
   ]
  },
  {
   "cell_type": "code",
   "execution_count": 22,
   "metadata": {
    "_uuid": "c933b4a13714dc4dddd950c8115967c45dcee3bf"
   },
   "outputs": [
    {
     "name": "stdout",
     "output_type": "stream",
     "text": [
      "----- TRAIN DATA ACCURACY -----\n",
      "100.0 %\n",
      "----- TEST DATA ACCURACY -----\n",
      "73.10000017285347 %\n"
     ]
    }
   ],
   "source": [
    "correct_prediction = tf.equal(tf.argmax(model(X, False), 1), tf.argmax(Y, 1))\n",
    "accuracy = tf.reduce_mean(tf.cast(correct_prediction, tf.float32))\n",
    "\n",
    "print('----- TRAIN DATA ACCURACY -----')\n",
    "accu  = 0\n",
    "batch = BatchGenerator(trainx, trainy, batch_size=50, nb_classes=2,one_hot=True)\n",
    "for i in range(batch.total_batch):\n",
    "    feed_dict = {X:batch.x, Y:batch.y}\n",
    "    accu += sess.run(accuracy, feed_dict=feed_dict)\n",
    "    batch.next_batch()\n",
    "\n",
    "print( (accu / batch.total_batch) * 100 , '%' )\n",
    "\n",
    "\n",
    "print('----- TEST DATA ACCURACY -----')\n",
    "accu  = 0\n",
    "test = BatchGenerator(testx, testy, batch_size=50,one_hot=True, nb_classes=2)\n",
    "for i in range(test.total_batch):\n",
    "    feed_dict = {X:test.x, Y:test.y}\n",
    "    accu += sess.run(accuracy, feed_dict=feed_dict)\n",
    "    test.next_batch()\n",
    "\n",
    "print( (accu / test.total_batch) * 100 , '%' )"
   ]
  },
  {
   "cell_type": "markdown",
   "metadata": {},
   "source": [
    "## 73 % accuracy! for test datas, you wanna see as image? \n",
    "\n",
    "i expected more accuracy for test data but there are only two of inception modules and 8005 of training data set\n",
    "\n",
    "but there is one thing we should do \n",
    "\n",
    "OpenCV represents RGB images as multi-dimensional NumPy arrays and  in reverse order\n",
    "\n",
    "This means that images are actually represented in BGR order rather than RGB!\n",
    "\n",
    "There’s an easy fix though.\n",
    "\n",
    "All we need to do is convert the image from BGR to RGB using cv2 before input to plt.plot"
   ]
  },
  {
   "cell_type": "code",
   "execution_count": 23,
   "metadata": {},
   "outputs": [
    {
     "data": {
      "image/png": "[encoded data removed]",
      "text/plain": [
       "<Figure size 432x288 with 9 Axes>"
      ]
     },
     "metadata": {},
     "output_type": "display_data"
    }
   ],
   "source": [
    "test = BatchGenerator(testx, testy, batch_size=len(testx),one_hot=True, nb_classes=2)\n",
    "\n",
    "for i in range(9):\n",
    "    \n",
    "    r = random.randint(0, len(test.x))\n",
    "    plt.subplot(3,3,i+1)\n",
    "\n",
    "    plt.title('Label: {}, Pre: {}'.format(sess.run(tf.argmax(test.y[r:r+1], 1)),\n",
    "                                                  sess.run(tf.argmax(model(X), 1), \n",
    "                                                           feed_dict={X: test.x[r:r+1]})))\n",
    "    b,g,r = cv2.split(test.x[r])\n",
    "    plt.imshow( cv2.merge([r,g,b]))\n",
    "    plt.tight_layout()"
   ]
  },
  {
   "cell_type": "code",
   "execution_count": null,
   "metadata": {},
   "outputs": [],
   "source": []
  },
  {
   "cell_type": "code",
   "execution_count": null,
   "metadata": {},
   "outputs": [],
   "source": []
  }
 ],
 "metadata": {
  "kernelspec": {
   "display_name": "Python 3",
   "language": "python",
   "name": "python3"
  },
  "language_info": {
   "codemirror_mode": {
    "name": "ipython",
    "version": 3
   },
   "file_extension": ".py",
   "mimetype": "text/x-python",
   "name": "python",
   "nbconvert_exporter": "python",
   "pygments_lexer": "ipython3",
   "version": "3.6.5"
  }
 },
 "nbformat": 4,
 "nbformat_minor": 1
}
